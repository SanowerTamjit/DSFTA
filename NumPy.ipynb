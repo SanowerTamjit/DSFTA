{
 "cells": [
  {
   "cell_type": "markdown",
   "metadata": {},
   "source": [
    "### Numpy"
   ]
  },
  {
   "cell_type": "code",
   "execution_count": 1,
   "metadata": {},
   "outputs": [],
   "source": [
    "import numpy as np # 'pip install numpy' or 'conda install numpy'"
   ]
  },
  {
   "cell_type": "code",
   "execution_count": 2,
   "metadata": {},
   "outputs": [
    {
     "name": "stdout",
     "output_type": "stream",
     "text": [
      "[[ 0  1  2  3  4]\n",
      " [ 5  6  7  8  9]\n",
      " [10 11 12 13 14]]\n"
     ]
    }
   ],
   "source": [
    "# Note that numpy.array is not the same as the Standard Python Library class array.array,\n",
    "# which only handles one-dimensional arrays and offers less functionality.\n",
    "\n",
    "a = np.arange(15).reshape(3, 5)\n",
    "print(a)"
   ]
  },
  {
   "cell_type": "code",
   "execution_count": 3,
   "metadata": {},
   "outputs": [
    {
     "name": "stdout",
     "output_type": "stream",
     "text": [
      "[ 0.   0.1  0.2  0.3  0.4  0.5  0.6  0.7  0.8  0.9  1. ]\n"
     ]
    }
   ],
   "source": [
    "b = np.linspace(0, 1, 11) # start, stop, num=50\n",
    "# Return evenly spaced numbers over a specified interval.\n",
    "\n",
    "print(b)"
   ]
  },
  {
   "cell_type": "code",
   "execution_count": 4,
   "metadata": {},
   "outputs": [
    {
     "name": "stdout",
     "output_type": "stream",
     "text": [
      "(3, 5)\n",
      "2\n",
      "4\n",
      "15\n",
      "<class 'numpy.ndarray'>\n"
     ]
    }
   ],
   "source": [
    "print(a.shape)\n",
    "print(a.ndim)\n",
    "print(a.itemsize) # item 4bytes\n",
    "print(a.size)\n",
    "print(type(a))"
   ]
  },
  {
   "cell_type": "code",
   "execution_count": 5,
   "metadata": {},
   "outputs": [],
   "source": [
    "# dir(a)"
   ]
  },
  {
   "cell_type": "code",
   "execution_count": 6,
   "metadata": {},
   "outputs": [
    {
     "name": "stdout",
     "output_type": "stream",
     "text": [
      "[6, 7.5, 8, 0, 1]\n",
      "[ 6.   7.5  8.   0.   1. ]\n"
     ]
    }
   ],
   "source": [
    "data1 = [6, 7.5, 8, 0, 1]\n",
    "arr1 = np.array(data1)\n",
    "print(data1)\n",
    "print(arr1)"
   ]
  },
  {
   "cell_type": "code",
   "execution_count": 7,
   "metadata": {},
   "outputs": [
    {
     "name": "stdout",
     "output_type": "stream",
     "text": [
      "[[ 0.9526 -0.246  -0.8856]\n",
      " [ 0.5639  0.2379  0.9104]]\n",
      "(2, 3) (2, 3) float64 2\n"
     ]
    }
   ],
   "source": [
    "d = [[ 0.9526, -0.246 , -0.8856], [ 0.5639, 0.2379, 0.9104]]\n",
    "data = np.array(d)\n",
    "print(data)\n",
    "print(data.shape, np.shape(data), data.dtype, data.ndim)"
   ]
  },
  {
   "cell_type": "code",
   "execution_count": 8,
   "metadata": {},
   "outputs": [
    {
     "name": "stdout",
     "output_type": "stream",
     "text": [
      "[[ 9.526 -2.46  -8.856]\n",
      " [ 5.639  2.379  9.104]]\n",
      "[[0.9526, -0.246, -0.8856], [0.5639, 0.2379, 0.9104], [0.9526, -0.246, -0.8856], [0.5639, 0.2379, 0.9104], [0.9526, -0.246, -0.8856], [0.5639, 0.2379, 0.9104], [0.9526, -0.246, -0.8856], [0.5639, 0.2379, 0.9104], [0.9526, -0.246, -0.8856], [0.5639, 0.2379, 0.9104], [0.9526, -0.246, -0.8856], [0.5639, 0.2379, 0.9104], [0.9526, -0.246, -0.8856], [0.5639, 0.2379, 0.9104], [0.9526, -0.246, -0.8856], [0.5639, 0.2379, 0.9104], [0.9526, -0.246, -0.8856], [0.5639, 0.2379, 0.9104], [0.9526, -0.246, -0.8856], [0.5639, 0.2379, 0.9104]]\n"
     ]
    }
   ],
   "source": [
    "print(data * 10) # ndarray\n",
    "print(d * 10) # list of list"
   ]
  },
  {
   "cell_type": "code",
   "execution_count": 9,
   "metadata": {},
   "outputs": [
    {
     "name": "stdout",
     "output_type": "stream",
     "text": [
      "[[ 0.9526 -0.246  -0.8856]\n",
      " [ 0.5639  0.2379  0.9104]]\n"
     ]
    }
   ],
   "source": [
    "print(data)"
   ]
  },
  {
   "cell_type": "code",
   "execution_count": 10,
   "metadata": {},
   "outputs": [
    {
     "name": "stdout",
     "output_type": "stream",
     "text": [
      "[[ 1.9052 -0.492  -1.7712]\n",
      " [ 1.1278  0.4758  1.8208]]\n"
     ]
    }
   ],
   "source": [
    "print(data+data) # Try +-*/ and **"
   ]
  },
  {
   "cell_type": "code",
   "execution_count": 11,
   "metadata": {},
   "outputs": [
    {
     "name": "stdout",
     "output_type": "stream",
     "text": [
      "[ 0.  0.  0.  0.  0.  0.  0.  0.  0.  0.]\n"
     ]
    }
   ],
   "source": [
    "print(np.zeros(10)) # np.ones() does similar action, but fill them with 1s."
   ]
  },
  {
   "cell_type": "code",
   "execution_count": 12,
   "metadata": {},
   "outputs": [
    {
     "name": "stdout",
     "output_type": "stream",
     "text": [
      "[[ 0.  0.  0.  0.  0.  0.]\n",
      " [ 0.  0.  0.  0.  0.  0.]\n",
      " [ 0.  0.  0.  0.  0.  0.]]\n"
     ]
    }
   ],
   "source": [
    "print(np.zeros((3,6))) # DO NOT USE np.empty()"
   ]
  },
  {
   "cell_type": "markdown",
   "metadata": {},
   "source": [
    "### Indexing and Slicing"
   ]
  },
  {
   "cell_type": "code",
   "execution_count": 13,
   "metadata": {},
   "outputs": [],
   "source": [
    "arr = np.arange(10) # do not use np.array(range(10))"
   ]
  },
  {
   "cell_type": "code",
   "execution_count": 14,
   "metadata": {},
   "outputs": [
    {
     "name": "stdout",
     "output_type": "stream",
     "text": [
      "[0 1 2 3 4 5 6 7 8 9]\n",
      "5\n",
      "[5 6 7]\n"
     ]
    }
   ],
   "source": [
    "print(arr)\n",
    "print(arr[5])\n",
    "print(arr[5:8])"
   ]
  },
  {
   "cell_type": "code",
   "execution_count": 15,
   "metadata": {},
   "outputs": [
    {
     "name": "stdout",
     "output_type": "stream",
     "text": [
      "[ 0  1  2  3  4 12 12 12  8  9]\n"
     ]
    }
   ],
   "source": [
    "arr[5:8] = 12 # the value is propagated (or broadcasted henceforth) to the entire selection\n",
    "print(arr) # Explain 'view'"
   ]
  },
  {
   "cell_type": "code",
   "execution_count": 16,
   "metadata": {},
   "outputs": [
    {
     "name": "stdout",
     "output_type": "stream",
     "text": [
      "[ 12 666  12]\n",
      "[  0   1   2   3   4  12 666  12   8   9]\n",
      "True\n"
     ]
    }
   ],
   "source": [
    "# Try to recall \"deep copy\" and \"shadow copy\"\n",
    "arr_slice = arr[5:8]\n",
    "arr_slice[1] = 666\n",
    "print(arr_slice)\n",
    "print(arr)\n",
    "ar = arr\n",
    "print(ar is arr)"
   ]
  },
  {
   "cell_type": "code",
   "execution_count": 17,
   "metadata": {},
   "outputs": [
    {
     "name": "stdout",
     "output_type": "stream",
     "text": [
      "False\n"
     ]
    }
   ],
   "source": [
    "ar = arr.copy()\n",
    "print(ar is arr)"
   ]
  },
  {
   "cell_type": "markdown",
   "metadata": {},
   "source": [
    "### 2D"
   ]
  },
  {
   "cell_type": "code",
   "execution_count": 18,
   "metadata": {},
   "outputs": [
    {
     "name": "stdout",
     "output_type": "stream",
     "text": [
      "[7 8 9]\n"
     ]
    }
   ],
   "source": [
    "arr2d = np.array([[1, 2, 3], [4, 5, 6], [7, 8, 9]])\n",
    "print(arr2d[2])"
   ]
  },
  {
   "cell_type": "code",
   "execution_count": 19,
   "metadata": {},
   "outputs": [
    {
     "name": "stdout",
     "output_type": "stream",
     "text": [
      "3\n",
      "3\n"
     ]
    }
   ],
   "source": [
    "print(arr2d[0][2])\n",
    "print(arr2d[0, 2]) # draw picture of a 2d array of index"
   ]
  },
  {
   "cell_type": "code",
   "execution_count": 20,
   "metadata": {},
   "outputs": [],
   "source": [
    "# see np.copy()"
   ]
  },
  {
   "cell_type": "code",
   "execution_count": 21,
   "metadata": {},
   "outputs": [
    {
     "name": "stdout",
     "output_type": "stream",
     "text": [
      "[[[ 1  2  3]\n",
      "  [ 4  5  6]]\n",
      "\n",
      " [[ 7  8  9]\n",
      "  [10 11 12]]]\n"
     ]
    }
   ],
   "source": [
    "# Try 3D\n",
    "arr3d = np.array([[[1, 2, 3], [4, 5, 6]], [[7, 8, 9], [10, 11, 12]]])\n",
    "print(arr3d)"
   ]
  },
  {
   "cell_type": "markdown",
   "metadata": {},
   "source": [
    "### Slices"
   ]
  },
  {
   "cell_type": "code",
   "execution_count": 22,
   "metadata": {},
   "outputs": [],
   "source": [
    "import pprint as pp"
   ]
  },
  {
   "cell_type": "code",
   "execution_count": 23,
   "metadata": {},
   "outputs": [
    {
     "name": "stdout",
     "output_type": "stream",
     "text": [
      "[[1 2 3]\n",
      " [4 5 6]\n",
      " [7 8 9]]\n",
      "[[1 2 3]\n",
      " [4 5 6]]\n"
     ]
    }
   ],
   "source": [
    "print(arr2d)\n",
    "print(arr2d[:2])"
   ]
  },
  {
   "cell_type": "code",
   "execution_count": 24,
   "metadata": {},
   "outputs": [
    {
     "name": "stdout",
     "output_type": "stream",
     "text": [
      "array([[1, 2, 3],\n",
      "       [4, 5, 6],\n",
      "       [7, 8, 9]])\n",
      "array([[2, 3],\n",
      "       [5, 6]])\n"
     ]
    }
   ],
   "source": [
    "pp.pprint(arr2d)\n",
    "pp.pprint(arr2d[:2, 1:])"
   ]
  },
  {
   "cell_type": "code",
   "execution_count": 25,
   "metadata": {},
   "outputs": [
    {
     "name": "stdout",
     "output_type": "stream",
     "text": [
      "array([4, 5, 6])\n",
      "(3, 3)\n"
     ]
    }
   ],
   "source": [
    "pp.pprint(arr2d[1]) # Try 7 as index\n",
    "print(arr2d.shape)"
   ]
  },
  {
   "cell_type": "code",
   "execution_count": 26,
   "metadata": {},
   "outputs": [
    {
     "data": {
      "image/png": "[encoded data removed]",
      "text/plain": [
       "<IPython.core.display.Image object>"
      ]
     },
     "execution_count": 26,
     "metadata": {
      "image/png": {
       "width": 400
      }
     },
     "output_type": "execute_result"
    }
   ],
   "source": [
    "from IPython.display import Image\n",
    "Image(filename='2darray.png', width=400) "
   ]
  },
  {
   "cell_type": "markdown",
   "metadata": {},
   "source": [
    "### Boolean Indexing"
   ]
  },
  {
   "cell_type": "code",
   "execution_count": 27,
   "metadata": {},
   "outputs": [],
   "source": [
    "names = np.array(['Bob', 'Joe', 'Will', 'Bob', 'Will', 'Joe', 'Joe'])\n",
    "data = np.random.randn(7, 4) # Try 'import numpy.random.randn as randn', then 'randn(7, 4)'"
   ]
  },
  {
   "cell_type": "code",
   "execution_count": 28,
   "metadata": {},
   "outputs": [
    {
     "name": "stdout",
     "output_type": "stream",
     "text": [
      "1.69 s ± 143 ms per loop (mean ± std. dev. of 7 runs, 1 loop each)\n",
      "59.9 ms ± 4.17 ms per loop (mean ± std. dev. of 7 runs, 10 loops each)\n"
     ]
    }
   ],
   "source": [
    "# DO NOT USE Python built-in random number generator\n",
    "from random import normalvariate\n",
    "N = 1000000\n",
    "%timeit samples = [normalvariate(0, 1) for _ in range(N)]\n",
    "%timeit np.random.normal(size=N)"
   ]
  },
  {
   "cell_type": "code",
   "execution_count": 29,
   "metadata": {
    "scrolled": false
   },
   "outputs": [],
   "source": [
    "#help(np.random)"
   ]
  },
  {
   "cell_type": "code",
   "execution_count": 30,
   "metadata": {},
   "outputs": [
    {
     "name": "stdout",
     "output_type": "stream",
     "text": [
      "['Bob' 'Joe' 'Will' 'Bob' 'Will' 'Joe' 'Joe']\n",
      "[[-2.33440528  1.39630963  0.3573313  -0.51845057]\n",
      " [ 0.0733033  -0.45138978  0.23383692 -0.25039248]\n",
      " [-1.18147384  0.64834223 -0.53592568 -0.788127  ]\n",
      " [ 0.32799647  1.04335714 -0.69426093  0.29395737]\n",
      " [-0.60031589  0.86022146 -0.05544069  2.38811923]\n",
      " [-1.24927978 -0.69760691  0.75347064 -2.10689591]\n",
      " [-1.33448495 -1.41227169 -1.62900552 -0.33059542]]\n"
     ]
    }
   ],
   "source": [
    "print(names)\n",
    "print(data)"
   ]
  },
  {
   "cell_type": "code",
   "execution_count": 31,
   "metadata": {},
   "outputs": [
    {
     "data": {
      "text/plain": [
       "array([ True, False, False,  True, False, False, False], dtype=bool)"
      ]
     },
     "execution_count": 31,
     "metadata": {},
     "output_type": "execute_result"
    }
   ],
   "source": [
    "names == 'Bob' # == is an operation among each element in np's data"
   ]
  },
  {
   "cell_type": "code",
   "execution_count": 32,
   "metadata": {},
   "outputs": [
    {
     "data": {
      "text/plain": [
       "[True, False, False, True, False, False, False]"
      ]
     },
     "execution_count": 32,
     "metadata": {},
     "output_type": "execute_result"
    }
   ],
   "source": [
    "# Equal to names == 'Bob'\n",
    "def eq(names):\n",
    "    for name in names:\n",
    "        yield name == 'Bob'\n",
    "\n",
    "list(eq(names))"
   ]
  },
  {
   "cell_type": "code",
   "execution_count": 33,
   "metadata": {},
   "outputs": [
    {
     "data": {
      "text/plain": [
       "array([[-2.33440528,  1.39630963,  0.3573313 , -0.51845057],\n",
       "       [ 0.32799647,  1.04335714, -0.69426093,  0.29395737]])"
      ]
     },
     "execution_count": 33,
     "metadata": {},
     "output_type": "execute_result"
    }
   ],
   "source": [
    "# So convenient!\n",
    "data[names == 'Bob']"
   ]
  },
  {
   "cell_type": "code",
   "execution_count": 34,
   "metadata": {},
   "outputs": [
    {
     "data": {
      "text/plain": [
       "array([[ 0.3573313 , -0.51845057],\n",
       "       [-0.69426093,  0.29395737]])"
      ]
     },
     "execution_count": 34,
     "metadata": {},
     "output_type": "execute_result"
    }
   ],
   "source": [
    "data[names == 'Bob', 2:]"
   ]
  },
  {
   "cell_type": "code",
   "execution_count": 35,
   "metadata": {},
   "outputs": [
    {
     "data": {
      "text/plain": [
       "array([[ 0.0733033 , -0.45138978,  0.23383692, -0.25039248],\n",
       "       [-1.18147384,  0.64834223, -0.53592568, -0.788127  ],\n",
       "       [-0.60031589,  0.86022146, -0.05544069,  2.38811923],\n",
       "       [-1.24927978, -0.69760691,  0.75347064, -2.10689591],\n",
       "       [-1.33448495, -1.41227169, -1.62900552, -0.33059542]])"
      ]
     },
     "execution_count": 35,
     "metadata": {},
     "output_type": "execute_result"
    }
   ],
   "source": [
    "# Select everything but 'Bob'\n",
    "data[(names != 'Bob')]"
   ]
  },
  {
   "cell_type": "code",
   "execution_count": 36,
   "metadata": {},
   "outputs": [
    {
     "data": {
      "text/plain": [
       "array([[-2.33440528,  1.39630963,  0.3573313 , -0.51845057],\n",
       "       [-1.18147384,  0.64834223, -0.53592568, -0.788127  ],\n",
       "       [ 0.32799647,  1.04335714, -0.69426093,  0.29395737],\n",
       "       [-0.60031589,  0.86022146, -0.05544069,  2.38811923]])"
      ]
     },
     "execution_count": 36,
     "metadata": {},
     "output_type": "execute_result"
    }
   ],
   "source": [
    "# mask, but not that efficient\n",
    "mask = (names == 'Bob') | (names == 'Will')\n",
    "data[mask]"
   ]
  },
  {
   "cell_type": "code",
   "execution_count": 37,
   "metadata": {},
   "outputs": [
    {
     "name": "stdout",
     "output_type": "stream",
     "text": [
      "[[-2.33440528  1.39630963  0.3573313  -0.51845057]\n",
      " [ 0.0733033  -0.45138978  0.23383692 -0.25039248]\n",
      " [-1.18147384  0.64834223 -0.53592568 -0.788127  ]\n",
      " [ 0.32799647  1.04335714 -0.69426093  0.29395737]\n",
      " [-0.60031589  0.86022146 -0.05544069  2.38811923]\n",
      " [-1.24927978 -0.69760691  0.75347064 -2.10689591]\n",
      " [-1.33448495 -1.41227169 -1.62900552 -0.33059542]]\n",
      "[-2.33440528 -0.51845057 -0.45138978 -0.25039248 -1.18147384 -0.53592568\n",
      " -0.788127   -0.69426093 -0.60031589 -0.05544069 -1.24927978 -0.69760691\n",
      " -2.10689591 -1.33448495 -1.41227169 -1.62900552 -0.33059542]\n"
     ]
    }
   ],
   "source": [
    "print(data)\n",
    "print(data[data < 0])"
   ]
  },
  {
   "cell_type": "code",
   "execution_count": 38,
   "metadata": {},
   "outputs": [
    {
     "data": {
      "text/plain": [
       "[-2.3344052761044689,\n",
       " -0.51845057217235047,\n",
       " -0.4513897833588934,\n",
       " -0.25039248344639287,\n",
       " -1.1814738386041577,\n",
       " -0.53592567925835055,\n",
       " -0.78812700032450145,\n",
       " -0.69426092647395687,\n",
       " -0.60031589064696567,\n",
       " -0.055440690741285409,\n",
       " -1.2492797767572119,\n",
       " -0.69760690817700854,\n",
       " -2.1068959124514981,\n",
       " -1.3344849500253106,\n",
       " -1.412271689052168,\n",
       " -1.6290055194753956,\n",
       " -0.33059541604314618]"
      ]
     },
     "execution_count": 38,
     "metadata": {},
     "output_type": "execute_result"
    }
   ],
   "source": [
    "# Equal to data < 0\n",
    "def eq2(data):\n",
    "    (x, y) = data.shape\n",
    "    for i in range(x):\n",
    "        for j in range(y):\n",
    "            if data[i, j] < 0:\n",
    "                yield data[i, j]\n",
    "\n",
    "list(eq2(data))"
   ]
  },
  {
   "cell_type": "code",
   "execution_count": 39,
   "metadata": {},
   "outputs": [
    {
     "name": "stdout",
     "output_type": "stream",
     "text": [
      "[[ 0.          1.39630963  0.3573313   0.        ]\n",
      " [ 0.0733033   0.          0.23383692  0.        ]\n",
      " [ 0.          0.64834223  0.          0.        ]\n",
      " [ 0.32799647  1.04335714  0.          0.29395737]\n",
      " [ 0.          0.86022146  0.          2.38811923]\n",
      " [ 0.          0.          0.75347064  0.        ]\n",
      " [ 0.          0.          0.          0.        ]]\n"
     ]
    }
   ],
   "source": [
    "data[data < 0] = 0 # Be careful, some of your data is lost!\n",
    "print(data)"
   ]
  },
  {
   "cell_type": "code",
   "execution_count": 40,
   "metadata": {},
   "outputs": [
    {
     "name": "stdout",
     "output_type": "stream",
     "text": [
      "[[ 0.          1.39630963  0.3573313   0.        ]\n",
      " [ 7.          7.          7.          7.        ]\n",
      " [ 0.          0.64834223  0.          0.        ]\n",
      " [ 0.32799647  1.04335714  0.          0.29395737]\n",
      " [ 0.          0.86022146  0.          2.38811923]\n",
      " [ 7.          7.          7.          7.        ]\n",
      " [ 7.          7.          7.          7.        ]]\n"
     ]
    }
   ],
   "source": [
    "data[names == 'Joe'] = 7.0\n",
    "print(data)"
   ]
  },
  {
   "cell_type": "markdown",
   "metadata": {},
   "source": [
    "### Fancy Indexing"
   ]
  },
  {
   "cell_type": "code",
   "execution_count": 41,
   "metadata": {},
   "outputs": [
    {
     "name": "stdout",
     "output_type": "stream",
     "text": [
      "[[ 0.  0.  0.  0.]\n",
      " [ 1.  1.  1.  1.]\n",
      " [ 2.  2.  2.  2.]\n",
      " [ 3.  3.  3.  3.]\n",
      " [ 4.  4.  4.  4.]\n",
      " [ 5.  5.  5.  5.]\n",
      " [ 6.  6.  6.  6.]\n",
      " [ 7.  7.  7.  7.]]\n"
     ]
    }
   ],
   "source": [
    "arr = np.empty((8, 4))\n",
    "for i in range(8):\n",
    "    arr[i] = i\n",
    "print(arr)"
   ]
  },
  {
   "cell_type": "code",
   "execution_count": 42,
   "metadata": {},
   "outputs": [
    {
     "data": {
      "text/plain": [
       "array([[ 4.,  4.,  4.,  4.],\n",
       "       [ 3.,  3.,  3.,  3.],\n",
       "       [ 0.,  0.,  0.,  0.],\n",
       "       [ 6.,  6.,  6.,  6.]])"
      ]
     },
     "execution_count": 42,
     "metadata": {},
     "output_type": "execute_result"
    }
   ],
   "source": [
    "index = [4, 3, 0, 6]\n",
    "arr[index]"
   ]
  },
  {
   "cell_type": "code",
   "execution_count": 43,
   "metadata": {},
   "outputs": [
    {
     "data": {
      "text/plain": [
       "array([[ 7.,  7.,  7.,  7.],\n",
       "       [ 6.,  6.,  6.,  6.],\n",
       "       [ 5.,  5.,  5.,  5.]])"
      ]
     },
     "execution_count": 43,
     "metadata": {},
     "output_type": "execute_result"
    }
   ],
   "source": [
    "arr[[-1, -2, -3]]"
   ]
  },
  {
   "cell_type": "markdown",
   "metadata": {},
   "source": [
    "### reshape"
   ]
  },
  {
   "cell_type": "code",
   "execution_count": 44,
   "metadata": {},
   "outputs": [
    {
     "name": "stdout",
     "output_type": "stream",
     "text": [
      "[ 0  1  2  3  4  5  6  7  8  9 10 11 12 13 14 15 16 17 18 19 20 21 22 23 24\n",
      " 25 26 27 28 29 30 31]\n"
     ]
    }
   ],
   "source": [
    "arr = np.arange(32)\n",
    "print(arr)"
   ]
  },
  {
   "cell_type": "code",
   "execution_count": 45,
   "metadata": {},
   "outputs": [
    {
     "data": {
      "text/plain": [
       "array([[ 0,  1,  2,  3],\n",
       "       [ 4,  5,  6,  7],\n",
       "       [ 8,  9, 10, 11],\n",
       "       [12, 13, 14, 15],\n",
       "       [16, 17, 18, 19],\n",
       "       [20, 21, 22, 23],\n",
       "       [24, 25, 26, 27],\n",
       "       [28, 29, 30, 31]])"
      ]
     },
     "execution_count": 45,
     "metadata": {},
     "output_type": "execute_result"
    }
   ],
   "source": [
    "arr.reshape(8, 4) # view"
   ]
  },
  {
   "cell_type": "code",
   "execution_count": 46,
   "metadata": {},
   "outputs": [
    {
     "name": "stdout",
     "output_type": "stream",
     "text": [
      "[ 0  1  2  3  4  5  6  7  8  9 10 11 12 13 14 15 16 17 18 19 20 21 22 23 24\n",
      " 25 26 27 28 29 30 31]\n"
     ]
    }
   ],
   "source": [
    "print(arr)"
   ]
  },
  {
   "cell_type": "code",
   "execution_count": 47,
   "metadata": {},
   "outputs": [
    {
     "name": "stdout",
     "output_type": "stream",
     "text": [
      "[[ 0  1  2  3]\n",
      " [ 4  5  6  7]\n",
      " [ 8  9 10 11]\n",
      " [12 13 14 15]\n",
      " [16 17 18 19]\n",
      " [20 21 22 23]\n",
      " [24 25 26 27]\n",
      " [28 29 30 31]]\n"
     ]
    }
   ],
   "source": [
    "arr = np.arange(32).reshape(8, 4)\n",
    "print(arr)"
   ]
  },
  {
   "cell_type": "code",
   "execution_count": 48,
   "metadata": {},
   "outputs": [
    {
     "data": {
      "text/plain": [
       "array([[21, 22, 23],\n",
       "       [25, 26, 27],\n",
       "       [29, 30, 31]])"
      ]
     },
     "execution_count": 48,
     "metadata": {},
     "output_type": "execute_result"
    }
   ],
   "source": [
    "arr[5:, 1:]"
   ]
  },
  {
   "cell_type": "markdown",
   "metadata": {},
   "source": [
    "### Transposing Arrays and Swapping Axes"
   ]
  },
  {
   "cell_type": "code",
   "execution_count": 49,
   "metadata": {},
   "outputs": [
    {
     "name": "stdout",
     "output_type": "stream",
     "text": [
      "[[ 0  1  2  3  4]\n",
      " [ 5  6  7  8  9]\n",
      " [10 11 12 13 14]] (3, 5)\n"
     ]
    }
   ],
   "source": [
    "arr = np.arange(15).reshape((3, 5))\n",
    "print(arr, arr.shape)"
   ]
  },
  {
   "cell_type": "code",
   "execution_count": 50,
   "metadata": {},
   "outputs": [
    {
     "name": "stdout",
     "output_type": "stream",
     "text": [
      "[[ 0  5 10]\n",
      " [ 1  6 11]\n",
      " [ 2  7 12]\n",
      " [ 3  8 13]\n",
      " [ 4  9 14]] (5, 3)\n"
     ]
    }
   ],
   "source": [
    "# Transpose, wiki has a demostrative gif\n",
    "# https://en.wikipedia.org/wiki/Transpose\n",
    "print(arr.T, arr.T.shape)"
   ]
  },
  {
   "cell_type": "code",
   "execution_count": 51,
   "metadata": {},
   "outputs": [
    {
     "name": "stdout",
     "output_type": "stream",
     "text": [
      "operands could not be broadcast together with shapes (3,5) (5,3) \n"
     ]
    }
   ],
   "source": [
    "try:\n",
    "    arr*arr.T # Error! Be careful!\n",
    "except Exception as e:\n",
    "    print(e)"
   ]
  },
  {
   "cell_type": "code",
   "execution_count": 52,
   "metadata": {},
   "outputs": [
    {
     "data": {
      "text/plain": [
       "array([[ 30,  80, 130],\n",
       "       [ 80, 255, 430],\n",
       "       [130, 430, 730]])"
      ]
     },
     "execution_count": 52,
     "metadata": {},
     "output_type": "execute_result"
    }
   ],
   "source": [
    "np.dot(arr, arr.T)"
   ]
  },
  {
   "cell_type": "code",
   "execution_count": 53,
   "metadata": {},
   "outputs": [
    {
     "data": {
      "text/plain": [
       "array([[125, 140, 155, 170, 185],\n",
       "       [140, 158, 176, 194, 212],\n",
       "       [155, 176, 197, 218, 239],\n",
       "       [170, 194, 218, 242, 266],\n",
       "       [185, 212, 239, 266, 293]])"
      ]
     },
     "execution_count": 53,
     "metadata": {},
     "output_type": "execute_result"
    }
   ],
   "source": [
    "np.dot(arr.T, arr)"
   ]
  },
  {
   "cell_type": "code",
   "execution_count": 54,
   "metadata": {},
   "outputs": [
    {
     "name": "stdout",
     "output_type": "stream",
     "text": [
      "[[[ 0  1  2  3]\n",
      "  [ 4  5  6  7]]\n",
      "\n",
      " [[ 8  9 10 11]\n",
      "  [12 13 14 15]]]\n"
     ]
    }
   ],
   "source": [
    "# high dimensional arrays\n",
    "arr = np.arange(16).reshape((2, 2, 4))\n",
    "print(arr)"
   ]
  },
  {
   "cell_type": "code",
   "execution_count": 55,
   "metadata": {},
   "outputs": [
    {
     "name": "stdout",
     "output_type": "stream",
     "text": [
      "[[[ 0  1  2  3]\n",
      "  [ 8  9 10 11]]\n",
      "\n",
      " [[ 4  5  6  7]\n",
      "  [12 13 14 15]]]\n"
     ]
    }
   ],
   "source": [
    "print(arr.transpose((1, 0, 2)))"
   ]
  },
  {
   "cell_type": "code",
   "execution_count": 56,
   "metadata": {},
   "outputs": [
    {
     "name": "stdout",
     "output_type": "stream",
     "text": [
      "[[[ 0  8]\n",
      "  [ 4 12]]\n",
      "\n",
      " [[ 1  9]\n",
      "  [ 5 13]]\n",
      "\n",
      " [[ 2 10]\n",
      "  [ 6 14]]\n",
      "\n",
      " [[ 3 11]\n",
      "  [ 7 15]]]\n"
     ]
    }
   ],
   "source": [
    "print(arr.T) # a special case of transpose"
   ]
  },
  {
   "cell_type": "code",
   "execution_count": 57,
   "metadata": {},
   "outputs": [
    {
     "name": "stdout",
     "output_type": "stream",
     "text": [
      "[[[ 0  1  2  3]\n",
      "  [ 4  5  6  7]]\n",
      "\n",
      " [[ 8  9 10 11]\n",
      "  [12 13 14 15]]]\n"
     ]
    }
   ],
   "source": [
    "print(arr.transpose((0, 1, 2)))"
   ]
  },
  {
   "cell_type": "markdown",
   "metadata": {},
   "source": [
    "### Fast Element-wise Array Functions"
   ]
  },
  {
   "cell_type": "code",
   "execution_count": 58,
   "metadata": {},
   "outputs": [
    {
     "name": "stdout",
     "output_type": "stream",
     "text": [
      "[ 0  1  2  3  4  5  6  7  8  9 10 11 12 13 14 15]\n"
     ]
    }
   ],
   "source": [
    "arr = np.arange(16)\n",
    "print(arr)"
   ]
  },
  {
   "cell_type": "code",
   "execution_count": 59,
   "metadata": {},
   "outputs": [
    {
     "data": {
      "text/plain": [
       "array([ 0.        ,  1.        ,  1.41421356,  1.73205081,  2.        ,\n",
       "        2.23606798,  2.44948974,  2.64575131,  2.82842712,  3.        ,\n",
       "        3.16227766,  3.31662479,  3.46410162,  3.60555128,  3.74165739,\n",
       "        3.87298335])"
      ]
     },
     "execution_count": 59,
     "metadata": {},
     "output_type": "execute_result"
    }
   ],
   "source": [
    "np.sqrt(arr)"
   ]
  },
  {
   "cell_type": "code",
   "execution_count": 60,
   "metadata": {},
   "outputs": [
    {
     "data": {
      "text/plain": [
       "array([  1.00000000e+00,   2.71828183e+00,   7.38905610e+00,\n",
       "         2.00855369e+01,   5.45981500e+01,   1.48413159e+02,\n",
       "         4.03428793e+02,   1.09663316e+03,   2.98095799e+03,\n",
       "         8.10308393e+03,   2.20264658e+04,   5.98741417e+04,\n",
       "         1.62754791e+05,   4.42413392e+05,   1.20260428e+06,\n",
       "         3.26901737e+06])"
      ]
     },
     "execution_count": 60,
     "metadata": {},
     "output_type": "execute_result"
    }
   ],
   "source": [
    "np.exp(arr)"
   ]
  },
  {
   "cell_type": "code",
   "execution_count": 61,
   "metadata": {},
   "outputs": [
    {
     "name": "stdout",
     "output_type": "stream",
     "text": [
      "15 0 7.5 4.60977222865 21.25 120\n",
      "15 0 7.5 4.60977222865 21.25 120\n"
     ]
    }
   ],
   "source": [
    "print(np.max(arr), np.min(arr), np.mean(arr), np.std(arr), np.var(arr), np.sum(arr))\n",
    "print(arr.max(), arr.min(), arr.mean(), arr.std(), arr.var(), arr.sum())"
   ]
  },
  {
   "cell_type": "code",
   "execution_count": 62,
   "metadata": {
    "scrolled": true
   },
   "outputs": [
    {
     "name": "stdout",
     "output_type": "stream",
     "text": [
      "maximum(x1, x2, /, out=None, *, where=True, casting='same_kind', order='K', dtype=None, subok=True[, signature, extobj])\n",
      "\n",
      "Element-wise maximum of array elements.\n",
      "\n",
      "Compare two arrays and returns a new array containing the element-wise\n",
      "maxima. If one of the elements being compared is a NaN, then that\n",
      "element is returned. If both elements are NaNs then the first is\n",
      "returned. The latter distinction is important for complex NaNs, which\n",
      "are defined as at least one of the real or imaginary parts being a NaN.\n",
      "The net effect is that NaNs are propagated.\n",
      "\n",
      "Parameters\n",
      "----------\n",
      "x1, x2 : array_like\n",
      "    The arrays holding the elements to be compared. They must have\n",
      "    the same shape, or shapes that can be broadcast to a single shape.\n",
      "out : ndarray, None, or tuple of ndarray and None, optional\n",
      "    A location into which the result is stored. If provided, it must have\n",
      "    a shape that the inputs broadcast to. If not provided or `None`,\n",
      "    a freshly-allocated array is returned. A tuple (possible only as a\n",
      "    keyword argument) must have length equal to the number of outputs.\n",
      "where : array_like, optional\n",
      "    Values of True indicate to calculate the ufunc at that position, values\n",
      "    of False indicate to leave the value in the output alone.\n",
      "**kwargs\n",
      "    For other keyword-only arguments, see the\n",
      "    :ref:`ufunc docs <ufuncs.kwargs>`.\n",
      "\n",
      "Returns\n",
      "-------\n",
      "y : ndarray or scalar\n",
      "    The maximum of `x1` and `x2`, element-wise.  Returns scalar if\n",
      "    both  `x1` and `x2` are scalars.\n",
      "\n",
      "See Also\n",
      "--------\n",
      "minimum :\n",
      "    Element-wise minimum of two arrays, propagates NaNs.\n",
      "fmax :\n",
      "    Element-wise maximum of two arrays, ignores NaNs.\n",
      "amax :\n",
      "    The maximum value of an array along a given axis, propagates NaNs.\n",
      "nanmax :\n",
      "    The maximum value of an array along a given axis, ignores NaNs.\n",
      "\n",
      "fmin, amin, nanmin\n",
      "\n",
      "Notes\n",
      "-----\n",
      "The maximum is equivalent to ``np.where(x1 >= x2, x1, x2)`` when\n",
      "neither x1 nor x2 are nans, but it is faster and does proper\n",
      "broadcasting.\n",
      "\n",
      "Examples\n",
      "--------\n",
      ">>> np.maximum([2, 3, 4], [1, 5, 2])\n",
      "array([2, 5, 4])\n",
      "\n",
      ">>> np.maximum(np.eye(2), [0.5, 2]) # broadcasting\n",
      "array([[ 1. ,  2. ],\n",
      "       [ 0.5,  2. ]])\n",
      "\n",
      ">>> np.maximum([np.nan, 0, np.nan], [0, np.nan, np.nan])\n",
      "array([ NaN,  NaN,  NaN])\n",
      ">>> np.maximum(np.Inf, 1)\n",
      "inf\n"
     ]
    }
   ],
   "source": [
    "#help(np.maximum)\n",
    "np.info(np.maximum)"
   ]
  },
  {
   "cell_type": "code",
   "execution_count": 63,
   "metadata": {},
   "outputs": [
    {
     "name": "stdout",
     "output_type": "stream",
     "text": [
      "[[-0.80022307  0.67693411 -0.43067037 -0.23310082]\n",
      " [-0.85509041  0.65704638 -1.50888145  0.34328161]\n",
      " [-0.55904377 -1.60577643 -0.61054418  0.26477242]\n",
      " [ 0.17792333 -1.25040267 -0.02976158 -1.50969879]\n",
      " [-0.78436198  1.28980117 -0.89574893 -1.11086091]\n",
      " [ 2.07007784  1.02880291 -1.25227568 -0.04862009]\n",
      " [-0.91430997  1.70433676  0.26544595  0.81421175]]\n",
      "[[ 0.21103333  0.66229426 -1.22277663  0.32323184]\n",
      " [-1.02383065  0.84385682 -0.02333118 -0.33602458]\n",
      " [ 0.22274103 -0.58825982 -0.55298009  0.12468629]\n",
      " [-1.94826831 -1.57362261 -0.5351125  -1.63206719]\n",
      " [ 0.15466627 -0.39017104  0.01374444 -0.10163277]\n",
      " [ 0.53293047 -1.61976808  0.69443279 -0.04174341]\n",
      " [ 0.90504979 -0.73983809 -0.42583012 -2.60606969]]\n",
      "[[ 0.21103333  0.67693411 -0.43067037  0.32323184]\n",
      " [-0.85509041  0.84385682 -0.02333118  0.34328161]\n",
      " [ 0.22274103 -0.58825982 -0.55298009  0.26477242]\n",
      " [ 0.17792333 -1.25040267 -0.02976158 -1.50969879]\n",
      " [ 0.15466627  1.28980117  0.01374444 -0.10163277]\n",
      " [ 2.07007784  1.02880291  0.69443279 -0.04174341]\n",
      " [ 0.90504979  1.70433676  0.26544595  0.81421175]]\n"
     ]
    }
   ],
   "source": [
    "data1 = np.random.randn(7, 4)\n",
    "data2 = np.random.randn(7, 4)\n",
    "\n",
    "print(data1)\n",
    "print(data2)\n",
    "print(np.maximum(data1, data2)) # it is easy to distinguish element-wise operations and non- by the number of arguments."
   ]
  },
  {
   "cell_type": "code",
   "execution_count": 64,
   "metadata": {},
   "outputs": [
    {
     "name": "stdout",
     "output_type": "stream",
     "text": [
      "[ 1.1  2.2  1.3  1.4  2.5]\n"
     ]
    }
   ],
   "source": [
    "Tarr = np.array([1.1, 1.2, 1.3, 1.4, 1.5])\n",
    "Farr = np.array([2.1, 2.2, 2.3, 2.4, 2.5])\n",
    "Cond = np.array([True, False, True, True, False])\n",
    "\n",
    "# result = [(T if C else F)], do NOT use pure Python to compute result.\n",
    "# It is slow on large array, and it is not work for multidimensional array.\n",
    "result = np.where(Cond, Tarr, Farr)\n",
    "print(result)"
   ]
  },
  {
   "cell_type": "code",
   "execution_count": 65,
   "metadata": {},
   "outputs": [
    {
     "name": "stdout",
     "output_type": "stream",
     "text": [
      "[[ 0.2846258  -0.51905086 -0.09042291 -0.56530538]\n",
      " [-0.89303205  0.0086825  -0.93096655  0.88323395]\n",
      " [-0.70683137 -0.23384265  0.43386998 -1.4002841 ]\n",
      " [ 0.23225167 -1.49953567 -0.74166282 -1.11910561]]\n",
      "[[ 2 -2 -2 -2]\n",
      " [-2  2 -2  2]\n",
      " [-2 -2  2 -2]\n",
      " [ 2 -2 -2 -2]]\n",
      "[[ 2.         -0.51905086 -0.09042291 -0.56530538]\n",
      " [-0.89303205  2.         -0.93096655  2.        ]\n",
      " [-0.70683137 -0.23384265  2.         -1.4002841 ]\n",
      " [ 2.         -1.49953567 -0.74166282 -1.11910561]]\n"
     ]
    }
   ],
   "source": [
    "arr = np.random.randn(4, 4)\n",
    "print(arr)\n",
    "print(np.where(arr > 0, 2, -2))\n",
    "print(np.where(arr > 0, 2, arr)) # set only positive values to 2"
   ]
  },
  {
   "cell_type": "markdown",
   "metadata": {},
   "source": [
    "### Basic set operations for one-dimensional ndarrays"
   ]
  },
  {
   "cell_type": "code",
   "execution_count": 66,
   "metadata": {},
   "outputs": [
    {
     "name": "stdout",
     "output_type": "stream",
     "text": [
      "['Bob' 'Joe' 'Will']\n",
      "['Bob', 'Joe', 'Will']\n",
      "['Alice' 'Bob' 'Cathy' 'Joe' 'John' 'Mike' 'Will']\n",
      "['Bob']\n",
      "[ True False False  True False False False]\n"
     ]
    }
   ],
   "source": [
    "names = np.array(['Bob', 'Joe', 'Will', 'Bob', 'Will', 'Joe', 'Joe'])\n",
    "name2 = np.array(['Bob', 'Alice', 'Mike', 'John', 'Cathy'])\n",
    "\n",
    "print(np.unique(names)) # numpy returns sotred and unique elements \n",
    "print(sorted(set(names))) # pure python. DO NOT DO THIS.\n",
    "\n",
    "print(np.union1d(names, name2))\n",
    "print(np.intersect1d(names, name2))\n",
    "print(np.in1d(names, name2)) # whether each element of x is contained in y"
   ]
  },
  {
   "cell_type": "markdown",
   "metadata": {},
   "source": [
    "## An Example of Numpy"
   ]
  },
  {
   "cell_type": "code",
   "execution_count": 67,
   "metadata": {},
   "outputs": [],
   "source": [
    "points = np.arange(-5, 5, 0.01) # help(np.arange)"
   ]
  },
  {
   "cell_type": "code",
   "execution_count": 68,
   "metadata": {},
   "outputs": [
    {
     "name": "stdout",
     "output_type": "stream",
     "text": [
      "[[-5.   -4.99 -4.98 ...,  4.97  4.98  4.99]\n",
      " [-5.   -4.99 -4.98 ...,  4.97  4.98  4.99]\n",
      " [-5.   -4.99 -4.98 ...,  4.97  4.98  4.99]\n",
      " ..., \n",
      " [-5.   -4.99 -4.98 ...,  4.97  4.98  4.99]\n",
      " [-5.   -4.99 -4.98 ...,  4.97  4.98  4.99]\n",
      " [-5.   -4.99 -4.98 ...,  4.97  4.98  4.99]]\n"
     ]
    }
   ],
   "source": [
    "xs, ys = np.meshgrid(points, points) # takes two 1D arrays and produces two 2D matrices\n",
    "print(xs)"
   ]
  },
  {
   "cell_type": "code",
   "execution_count": 69,
   "metadata": {},
   "outputs": [
    {
     "name": "stdout",
     "output_type": "stream",
     "text": [
      "(1000, 1000) (1000, 1000)\n"
     ]
    }
   ],
   "source": [
    "print(xs.shape, ys.shape)"
   ]
  },
  {
   "cell_type": "code",
   "execution_count": 70,
   "metadata": {},
   "outputs": [],
   "source": [
    "z = np.sqrt(xs ** 2 + ys ** 2)"
   ]
  },
  {
   "cell_type": "code",
   "execution_count": 71,
   "metadata": {},
   "outputs": [
    {
     "data": {
      "text/plain": [
       "<matplotlib.colorbar.Colorbar at 0x24a4a910860>"
      ]
     },
     "execution_count": 71,
     "metadata": {},
     "output_type": "execute_result"
    },
    {
     "data": {
      "image/png": "[encoded data removed]",
      "text/plain": [
       "<matplotlib.figure.Figure at 0x24a47efba90>"
      ]
     },
     "metadata": {},
     "output_type": "display_data"
    }
   ],
   "source": [
    "%matplotlib inline\n",
    "\n",
    "import matplotlib.pyplot as plt\n",
    "plt.imshow(z, cmap=plt.cm.gray)\n",
    "plt.title(\"$\\sqrt{x^2 + y^2}$\")\n",
    "plt.colorbar()"
   ]
  },
  {
   "cell_type": "markdown",
   "metadata": {},
   "source": [
    "### Example: Random Walks"
   ]
  },
  {
   "cell_type": "code",
   "execution_count": 72,
   "metadata": {},
   "outputs": [
    {
     "data": {
      "image/png": "[encoded data removed]",
      "text/plain": [
       "<matplotlib.figure.Figure at 0x24a47f58ac8>"
      ]
     },
     "metadata": {},
     "output_type": "display_data"
    }
   ],
   "source": [
    "import random\n",
    "import pylab\n",
    "\n",
    "position = 0\n",
    "walk = [position]\n",
    "steps = 200\n",
    "for i in range(steps):\n",
    "    step = 1 if random.randint(0, 1) else -1\n",
    "    position += step\n",
    "    walk.append(position)\n",
    "\n",
    "pylab.plot(walk)\n",
    "pylab.show()"
   ]
  },
  {
   "cell_type": "code",
   "execution_count": 73,
   "metadata": {},
   "outputs": [
    {
     "data": {
      "image/png": "[encoded data removed]",
      "text/plain": [
       "<matplotlib.figure.Figure at 0x24a4a9bb4a8>"
      ]
     },
     "metadata": {},
     "output_type": "display_data"
    }
   ],
   "source": [
    "draws = np.random.randint(0, 2, size=200) # randint(low, high) =>  [low, high)\n",
    "steps = np.where(draws > 0, 1, -1)\n",
    "walk = steps.cumsum()\n",
    "\n",
    "pylab.plot(walk)\n",
    "pylab.show()"
   ]
  },
  {
   "cell_type": "markdown",
   "metadata": {},
   "source": [
    "### Example: Histograms"
   ]
  },
  {
   "cell_type": "code",
   "execution_count": 74,
   "metadata": {},
   "outputs": [
    {
     "data": {
      "image/png": "[encoded data removed]",
      "text/plain": [
       "<matplotlib.figure.Figure at 0x24a4aaf3cf8>"
      ]
     },
     "metadata": {},
     "output_type": "display_data"
    }
   ],
   "source": [
    "import numpy as np\n",
    "import matplotlib.pyplot as plt\n",
    "mu, sigma = 2, 0.5\n",
    "v = np.random.normal(mu,sigma,10000)\n",
    "plt.hist(v, bins=50, normed=1)\n",
    "plt.show()"
   ]
  },
  {
   "cell_type": "markdown",
   "metadata": {},
   "source": [
    "## File I/O with Numpy"
   ]
  },
  {
   "cell_type": "code",
   "execution_count": 75,
   "metadata": {},
   "outputs": [],
   "source": [
    "# save one ndarray\n",
    "arr = np.arange(10)\n",
    "np.save('np.npy', arr) # file extension is '.npy', no exception!"
   ]
  },
  {
   "cell_type": "code",
   "execution_count": 76,
   "metadata": {},
   "outputs": [
    {
     "name": "stdout",
     "output_type": "stream",
     "text": [
      "[0 1 2 3 4 5 6 7 8 9]\n"
     ]
    }
   ],
   "source": [
    "# read one ndarray\n",
    "o = np.load('np.npy')\n",
    "print(o)"
   ]
  },
  {
   "cell_type": "code",
   "execution_count": 77,
   "metadata": {},
   "outputs": [],
   "source": [
    "# save multiple ndarrays\n",
    "np.savez('np.npz', a=np.arange(5), b=np.arange(10))"
   ]
  },
  {
   "cell_type": "code",
   "execution_count": 78,
   "metadata": {},
   "outputs": [],
   "source": [
    "# read multiple ndarrays\n",
    "arch = np.load('np.npz')"
   ]
  },
  {
   "cell_type": "code",
   "execution_count": 79,
   "metadata": {},
   "outputs": [
    {
     "data": {
      "text/plain": [
       "array([0, 1, 2, 3, 4, 5, 6, 7, 8, 9])"
      ]
     },
     "execution_count": 79,
     "metadata": {},
     "output_type": "execute_result"
    }
   ],
   "source": [
    "# lazy loading, dictionary-like return\n",
    "arch['b']"
   ]
  },
  {
   "cell_type": "code",
   "execution_count": 80,
   "metadata": {},
   "outputs": [],
   "source": [
    "# CSV file, help(np.loadtxt)\n",
    "arr = np.loadtxt('stock_px.csv', delimiter=',', skiprows=1, usecols=(1,2,3,4), ndmin=2)"
   ]
  },
  {
   "cell_type": "code",
   "execution_count": 81,
   "metadata": {},
   "outputs": [
    {
     "name": "stdout",
     "output_type": "stream",
     "text": [
      "[[    7.4     21.11    29.22   909.03]\n",
      " [    7.45    21.14    29.24   908.59]\n",
      " [    7.45    21.52    29.96   929.01]\n",
      " ..., \n",
      " [  402.19    26.96    77.16  1207.25]\n",
      " [  408.43    27.18    76.37  1203.66]\n",
      " [  422.      27.27    78.11  1224.58]]\n"
     ]
    }
   ],
   "source": [
    "print(arr)"
   ]
  },
  {
   "cell_type": "markdown",
   "metadata": {},
   "source": [
    "## numpy.linalg"
   ]
  },
  {
   "cell_type": "code",
   "execution_count": 82,
   "metadata": {},
   "outputs": [
    {
     "name": "stdout",
     "output_type": "stream",
     "text": [
      "Help on package numpy.linalg in numpy:\n",
      "\n",
      "NAME\n",
      "    numpy.linalg\n",
      "\n",
      "DESCRIPTION\n",
      "    Core Linear Algebra Tools\n",
      "    -------------------------\n",
      "    Linear algebra basics:\n",
      "    \n",
      "    - norm            Vector or matrix norm\n",
      "    - inv             Inverse of a square matrix\n",
      "    - solve           Solve a linear system of equations\n",
      "    - det             Determinant of a square matrix\n",
      "    - lstsq           Solve linear least-squares problem\n",
      "    - pinv            Pseudo-inverse (Moore-Penrose) calculated using a singular\n",
      "                      value decomposition\n",
      "    - matrix_power    Integer power of a square matrix\n",
      "    \n",
      "    Eigenvalues and decompositions:\n",
      "    \n",
      "    - eig             Eigenvalues and vectors of a square matrix\n",
      "    - eigh            Eigenvalues and eigenvectors of a Hermitian matrix\n",
      "    - eigvals         Eigenvalues of a square matrix\n",
      "    - eigvalsh        Eigenvalues of a Hermitian matrix\n",
      "    - qr              QR decomposition of a matrix\n",
      "    - svd             Singular value decomposition of a matrix\n",
      "    - cholesky        Cholesky decomposition of a matrix\n",
      "    \n",
      "    Tensor operations:\n",
      "    \n",
      "    - tensorsolve     Solve a linear tensor equation\n",
      "    - tensorinv       Calculate an inverse of a tensor\n",
      "    \n",
      "    Exceptions:\n",
      "    \n",
      "    - LinAlgError     Indicates a failed linear algebra operation\n",
      "\n",
      "PACKAGE CONTENTS\n",
      "    _umath_linalg\n",
      "    info\n",
      "    lapack_lite\n",
      "    linalg\n",
      "    setup\n",
      "\n",
      "DATA\n",
      "    absolute_import = _Feature((2, 5, 0, 'alpha', 1), (3, 0, 0, 'alpha', 0...\n",
      "    division = _Feature((2, 2, 0, 'alpha', 2), (3, 0, 0, 'alpha', 0), 8192...\n",
      "    print_function = _Feature((2, 6, 0, 'alpha', 2), (3, 0, 0, 'alpha', 0)...\n",
      "\n",
      "FILE\n",
      "    c:\\users\\hsiao\\miniconda3\\lib\\site-packages\\numpy\\linalg\\__init__.py\n",
      "\n",
      "\n"
     ]
    }
   ],
   "source": [
    "help(np.linalg)"
   ]
  },
  {
   "cell_type": "markdown",
   "metadata": {},
   "source": [
    "## What else?\n",
    "https://docs.scipy.org/doc/numpy/reference/index.html"
   ]
  },
  {
   "cell_type": "markdown",
   "metadata": {},
   "source": [
    "If you are not be able to remember everything, try to google \"numpy cheat sheet\". It helps.\n",
    "https://s3.amazonaws.com/assets.datacamp.com/blog_assets/Numpy_Python_Cheat_Sheet.pdf"
   ]
  }
 ],
 "metadata": {
  "kernelspec": {
   "display_name": "Python [default]",
   "language": "python",
   "name": "python3"
  },
  "language_info": {
   "codemirror_mode": {
    "name": "ipython",
    "version": 3
   },
   "file_extension": ".py",
   "mimetype": "text/x-python",
   "name": "python",
   "nbconvert_exporter": "python",
   "pygments_lexer": "ipython3",
   "version": "3.6.3"
  }
 },
 "nbformat": 4,
 "nbformat_minor": 1
}
