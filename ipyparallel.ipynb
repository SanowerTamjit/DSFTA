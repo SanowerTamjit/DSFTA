{
 "cells": [
  {
   "cell_type": "markdown",
   "metadata": {},
   "source": [
    "## ipyparallel\n",
    "http://ipyparallel.readthedocs.io/en/latest/intro.htm"
   ]
  },
  {
   "cell_type": "code",
   "execution_count": 1,
   "metadata": {
    "collapsed": true
   },
   "outputs": [],
   "source": [
    "# Install ipyparallel\n",
    "# pip install ipyparallel\n",
    "\n",
    "# Start a cluster in console mode.\n",
    "# ipcluster start -n 4\n",
    "\n",
    "# To enable the IPython Clusters tab in Jupyter Notebook, same as \"ipcluster start\".\n",
    "# ipcluster nbextension enable"
   ]
  },
  {
   "cell_type": "code",
   "execution_count": 2,
   "metadata": {
    "collapsed": false
   },
   "outputs": [
    {
     "data": {
      "text/plain": [
       "[0, 1, 2, 3]"
      ]
     },
     "execution_count": 2,
     "metadata": {},
     "output_type": "execute_result"
    }
   ],
   "source": [
    "from ipyparallel import Client\n",
    "rc = Client()\n",
    "\n",
    "rc.ids"
   ]
  },
  {
   "cell_type": "code",
   "execution_count": 3,
   "metadata": {
    "collapsed": false
   },
   "outputs": [],
   "source": [
    "#%px sum(range(101))"
   ]
  },
  {
   "cell_type": "code",
   "execution_count": 4,
   "metadata": {
    "collapsed": true
   },
   "outputs": [],
   "source": [
    "def mygetpid():\n",
    "    import os\n",
    "    return os.getpid()"
   ]
  },
  {
   "cell_type": "code",
   "execution_count": 5,
   "metadata": {
    "collapsed": false
   },
   "outputs": [
    {
     "data": {
      "text/plain": [
       "7896"
      ]
     },
     "execution_count": 5,
     "metadata": {},
     "output_type": "execute_result"
    }
   ],
   "source": [
    "mygetpid()"
   ]
  },
  {
   "cell_type": "code",
   "execution_count": 6,
   "metadata": {
    "collapsed": false
   },
   "outputs": [
    {
     "data": {
      "text/plain": [
       "1108"
      ]
     },
     "execution_count": 6,
     "metadata": {},
     "output_type": "execute_result"
    }
   ],
   "source": [
    "rc[0].apply_sync(mygetpid)"
   ]
  },
  {
   "cell_type": "code",
   "execution_count": 7,
   "metadata": {
    "collapsed": false
   },
   "outputs": [
    {
     "data": {
      "text/plain": [
       "4952"
      ]
     },
     "execution_count": 7,
     "metadata": {},
     "output_type": "execute_result"
    }
   ],
   "source": [
    "rc[1].apply_sync(mygetpid)"
   ]
  },
  {
   "cell_type": "code",
   "execution_count": 8,
   "metadata": {
    "collapsed": false
   },
   "outputs": [
    {
     "data": {
      "text/plain": [
       "1304"
      ]
     },
     "execution_count": 8,
     "metadata": {},
     "output_type": "execute_result"
    }
   ],
   "source": [
    "rc[2].apply_sync(mygetpid)"
   ]
  },
  {
   "cell_type": "code",
   "execution_count": 9,
   "metadata": {
    "collapsed": false
   },
   "outputs": [
    {
     "data": {
      "text/plain": [
       "9856"
      ]
     },
     "execution_count": 9,
     "metadata": {},
     "output_type": "execute_result"
    }
   ],
   "source": [
    "rc[3].apply_sync(mygetpid)"
   ]
  },
  {
   "cell_type": "code",
   "execution_count": 10,
   "metadata": {
    "collapsed": false
   },
   "outputs": [],
   "source": [
    "ar = rc[:].apply_async(mygetpid)\n",
    "pid_map = ar.get_dict()"
   ]
  },
  {
   "cell_type": "code",
   "execution_count": 11,
   "metadata": {
    "collapsed": false
   },
   "outputs": [
    {
     "name": "stdout",
     "output_type": "stream",
     "text": [
      "{0: 1108, 1: 4952, 2: 1304, 3: 9856}\n"
     ]
    }
   ],
   "source": [
    "print(pid_map)"
   ]
  },
  {
   "cell_type": "markdown",
   "metadata": {},
   "source": [
    "### Parallel map"
   ]
  },
  {
   "cell_type": "code",
   "execution_count": 12,
   "metadata": {
    "collapsed": false
   },
   "outputs": [
    {
     "name": "stdout",
     "output_type": "stream",
     "text": [
      "importing numpy on engine(s)\n"
     ]
    }
   ],
   "source": [
    "with rc[:].sync_imports():\n",
    "    import numpy\n",
    "\n",
    "dview = rc[:] # use all engines"
   ]
  },
  {
   "cell_type": "code",
   "execution_count": 13,
   "metadata": {
    "collapsed": false
   },
   "outputs": [
    {
     "data": {
      "text/plain": [
       "False"
      ]
     },
     "execution_count": 13,
     "metadata": {},
     "output_type": "execute_result"
    }
   ],
   "source": [
    "serial_result = map(lambda x:x**10, range(32))\n",
    "\n",
    "parallel_result = dview.map_sync(lambda x: x**10, range(32))\n",
    "\n",
    "serial_result==parallel_result"
   ]
  },
  {
   "cell_type": "code",
   "execution_count": 14,
   "metadata": {
    "collapsed": false
   },
   "outputs": [
    {
     "name": "stdout",
     "output_type": "stream",
     "text": [
      "4.394664791609689e-05\n",
      "0.24210976336650097\n",
      "1.7027090335108124\n"
     ]
    }
   ],
   "source": [
    "# map() is not always better than iterative calls!\n",
    "# ipyparallel is not always bettwer than map()!]\n",
    "# Try to change 'power' to 521\n",
    "# Try to change 'my_range' to 10000\n",
    "\n",
    "import timeit\n",
    "\n",
    "my_range = 1024\n",
    "my_number = 32\n",
    "\n",
    "def costly_func1():\n",
    "    global my_range\n",
    "    map(lambda x: x**128, range(my_range)) # try list() this map\n",
    "\n",
    "def costly_func2():\n",
    "    global dview, my_range\n",
    "    dview.map_async(lambda x: x**128, range(my_range))\n",
    "    \n",
    "def costly_func3():\n",
    "    global dview, my_range\n",
    "    dview.map_sync(lambda x: x**128, range(my_range))\n",
    "    \n",
    "\n",
    "print(timeit.timeit(costly_func1, number = my_number))\n",
    "print(timeit.timeit(costly_func2, number = my_number))\n",
    "print(timeit.timeit(costly_func3, number = my_number))"
   ]
  },
  {
   "cell_type": "code",
   "execution_count": 15,
   "metadata": {
    "collapsed": false
   },
   "outputs": [
    {
     "name": "stdout",
     "output_type": "stream",
     "text": [
      "Help on method map_sync in module ipyparallel.client.view:\n",
      "\n",
      "map_sync(f, *sequences, **kwargs) method of ipyparallel.client.view.DirectView instance\n",
      "    Parallel version of builtin :func:`python:map`, using this view's engines.\n",
      "    \n",
      "    This is equivalent to ``map(...block=True)``.\n",
      "    \n",
      "    See `self.map` for details.\n",
      "\n"
     ]
    }
   ],
   "source": [
    "help(dview.map_sync) # and try map_async"
   ]
  },
  {
   "cell_type": "code",
   "execution_count": 16,
   "metadata": {
    "collapsed": false
   },
   "outputs": [
    {
     "name": "stdout",
     "output_type": "stream",
     "text": [
      "0.18458957457511493\n"
     ]
    }
   ],
   "source": [
    "def costly_func4():\n",
    "    global dview, my_range\n",
    "    dview.map(lambda x: x**128, range(my_range), block = False)\n",
    "\n",
    "print(timeit.timeit(costly_func4, number = my_number))"
   ]
  },
  {
   "cell_type": "markdown",
   "metadata": {},
   "source": [
    "### blocking"
   ]
  },
  {
   "cell_type": "code",
   "execution_count": 17,
   "metadata": {
    "collapsed": false
   },
   "outputs": [
    {
     "name": "stdout",
     "output_type": "stream",
     "text": [
      "HERE\n",
      "MORE\n"
     ]
    }
   ],
   "source": [
    "# cannot do this in notebook\n",
    "\n",
    "def f(x):\n",
    "    print(x*x)\n",
    "\n",
    "block = dview.map(f, range(10), block = True)\n",
    "nonbl = dview.map(f, range(10), block = False)\n",
    "print('HERE')\n",
    "print('MORE')"
   ]
  },
  {
   "cell_type": "code",
   "execution_count": 18,
   "metadata": {
    "collapsed": false
   },
   "outputs": [
    {
     "name": "stdout",
     "output_type": "stream",
     "text": [
      "2.6.0\n"
     ]
    }
   ],
   "source": [
    "import dateutil\n",
    "print(dateutil.__version__)"
   ]
  },
  {
   "cell_type": "markdown",
   "metadata": {},
   "source": [
    "### with decorator"
   ]
  },
  {
   "cell_type": "code",
   "execution_count": 19,
   "metadata": {
    "collapsed": false
   },
   "outputs": [],
   "source": [
    "dview = rc[:]\n",
    "\n",
    "@dview.parallel(block=True)\n",
    "def dummy_task(delay):\n",
    "    import os, time\n",
    "    t0 = time.time()\n",
    "    pid = os.getpid()\n",
    "    time.sleep(delay)\n",
    "    t1 = time.time()\n",
    "    return [pid, t0, t1]"
   ]
  },
  {
   "cell_type": "code",
   "execution_count": 20,
   "metadata": {
    "collapsed": false
   },
   "outputs": [],
   "source": [
    "import numpy\n",
    "delay_times = numpy.random.rand(4)"
   ]
  },
  {
   "cell_type": "code",
   "execution_count": 21,
   "metadata": {
    "collapsed": false
   },
   "outputs": [
    {
     "data": {
      "text/plain": [
       "[[1108, 1491315555.6998396, 1491315556.149761],\n",
       " [4952, 1491315555.6998396, 1491315556.6185706],\n",
       " [1304, 1491315555.6998396, 1491315556.1653872],\n",
       " [9856, 1491315555.6998396, 1491315555.7935987]]"
      ]
     },
     "execution_count": 21,
     "metadata": {},
     "output_type": "execute_result"
    }
   ],
   "source": [
    "dummy_task.map(delay_times)"
   ]
  },
  {
   "cell_type": "code",
   "execution_count": 22,
   "metadata": {
    "collapsed": true
   },
   "outputs": [],
   "source": [
    "def visualize_tasks(results):\n",
    "    res = numpy.array(results)\n",
    "    fig, ax = plt.subplots(figsize=(10, res.shape[1]))\n",
    "    yticks = []\n",
    "    yticklabels = []\n",
    "    tmin = min(res[:,1])\n",
    "    for n, pid in enumerate(numpy.unique(res[:,0])):\n",
    "        yticks.append(n)\n",
    "        yticklabels.append(\"%d\" % pid)\n",
    "        for m in numpy.where(res[:,0] == pid)[0]:\n",
    "            ax.add_patch(plt.Rectangle((res[m,1] - tmin, n-0.25),\n",
    "            res[m,2] - res[m,1], 0.5, color=\"green\", alpha=0.5))\n",
    "    \n",
    "    ax.set_ylim(-.5, n+.5)\n",
    "    ax.set_xlim(0, max(res[:,2]) - tmin + 0.)\n",
    "    ax.set_yticks(yticks)\n",
    "    ax.set_yticklabels(yticklabels)\n",
    "    ax.set_ylabel(\"PID\")\n",
    "    ax.set_xlabel(\"seconds\")"
   ]
  },
  {
   "cell_type": "code",
   "execution_count": 23,
   "metadata": {
    "collapsed": false
   },
   "outputs": [
    {
     "data": {
      "image/png": "[encoded data removed]",
      "text/plain": [
       "<matplotlib.figure.Figure at 0x2042b313f60>"
      ]
     },
     "metadata": {},
     "output_type": "display_data"
    }
   ],
   "source": [
    "import matplotlib.pylab as plt\n",
    "%matplotlib inline\n",
    "\n",
    "delay_times = numpy.random.rand(64)\n",
    "result = dummy_task.map(delay_times)\n",
    "visualize_tasks(result)"
   ]
  },
  {
   "cell_type": "code",
   "execution_count": 24,
   "metadata": {
    "collapsed": false
   },
   "outputs": [
    {
     "data": {
      "text/plain": [
       "[[1108, 1491315556.962189, 1491315557.228014],\n",
       " [1108, 1491315557.228014, 1491315557.8227797],\n",
       " [1108, 1491315557.8227797, 1491315558.6353607],\n",
       " [1108, 1491315558.6353607, 1491315559.3541873],\n",
       " [1108, 1491315559.3541873, 1491315560.073012],\n",
       " [1108, 1491315560.073012, 1491315560.8543477],\n",
       " [1108, 1491315560.8543477, 1491315561.401291],\n",
       " [1108, 1491315561.401291, 1491315561.6945083],\n",
       " [1108, 1491315561.6945083, 1491315562.4989045],\n",
       " [1108, 1491315562.4989045, 1491315563.1864746],\n",
       " [1108, 1491315563.1864746, 1491315563.233359],\n",
       " [1108, 1491315563.233359, 1491315564.124063],\n",
       " [1108, 1491315564.124063, 1491315564.358467],\n",
       " [1108, 1491315564.358467, 1491315565.3429604],\n",
       " [1108, 1491315565.3429604, 1491315566.2805483],\n",
       " [1108, 1491315566.2805483, 1491315567.0460985],\n",
       " [4952, 1491315556.962189, 1491315557.05612],\n",
       " [4952, 1491315557.05612, 1491315557.4640956],\n",
       " [4952, 1491315557.4640956, 1491315558.4478571],\n",
       " [4952, 1491315558.4478571, 1491315559.1354077],\n",
       " [4952, 1491315559.1354077, 1491315560.0417566],\n",
       " [4952, 1491315560.0417566, 1491315560.1041079],\n",
       " [4952, 1491315560.1041079, 1491315560.448061],\n",
       " [4952, 1491315560.448061, 1491315561.0418673],\n",
       " [4952, 1491315561.0418673, 1491315561.8820333],\n",
       " [4952, 1491315561.8820333, 1491315562.7489338],\n",
       " [4952, 1491315562.7489338, 1491315562.9676995],\n",
       " [4952, 1491315562.9676995, 1491315562.9989462],\n",
       " [4952, 1491315562.9989462, 1491315563.233359],\n",
       " [4952, 1491315563.233359, 1491315564.233461],\n",
       " [4952, 1491315564.233461, 1491315564.6553807],\n",
       " [4952, 1491315564.6553807, 1491315565.6086054],\n",
       " [1304, 1491315556.962189, 1491315557.3530176],\n",
       " [1304, 1491315557.3530176, 1491315558.041543],\n",
       " [1304, 1491315558.041543, 1491315558.1038995],\n",
       " [1304, 1491315558.1038995, 1491315558.8696132],\n",
       " [1304, 1491315558.8696132, 1491315559.5416949],\n",
       " [1304, 1491315559.5416949, 1491315560.4168293],\n",
       " [1304, 1491315560.4168293, 1491315561.0262496],\n",
       " [1304, 1491315561.0262496, 1491315561.2137644],\n",
       " [1304, 1491315561.2137644, 1491315561.9132822],\n",
       " [1304, 1491315561.9132822, 1491315562.6707973],\n",
       " [1304, 1491315562.6707973, 1491315563.0301988],\n",
       " [1304, 1491315563.0301988, 1491315563.233359],\n",
       " [1304, 1491315563.233359, 1491315563.358361],\n",
       " [1304, 1491315563.358361, 1491315564.0459304],\n",
       " [1304, 1491315564.0459304, 1491315564.8427784],\n",
       " [1304, 1491315564.8427784, 1491315565.4367278],\n",
       " [9856, 1491315556.962189, 1491315557.6507225],\n",
       " [9856, 1491315557.6507225, 1491315557.9790432],\n",
       " [9856, 1491315557.9790432, 1491315558.4009547],\n",
       " [9856, 1491315558.4009547, 1491315559.2604427],\n",
       " [9856, 1491315559.2604427, 1491315559.4479501],\n",
       " [9856, 1491315559.4479501, 1491315560.1198962],\n",
       " [9856, 1491315560.1198962, 1491315560.229127],\n",
       " [9856, 1491315560.229127, 1491315560.8543477],\n",
       " [9856, 1491315560.8543477, 1491315560.9012463],\n",
       " [9856, 1491315560.9012463, 1491315561.3855],\n",
       " [9856, 1491315561.3855, 1491315561.772635],\n",
       " [9856, 1491315561.772635, 1491315562.4989045],\n",
       " [9856, 1491315562.4989045, 1491315563.311488],\n",
       " [9856, 1491315563.311488, 1491315563.6865237],\n",
       " [9856, 1491315563.6865237, 1491315563.9678018],\n",
       " [9856, 1491315563.9678018, 1491315564.671005]]"
      ]
     },
     "execution_count": 24,
     "metadata": {},
     "output_type": "execute_result"
    }
   ],
   "source": [
    "result"
   ]
  },
  {
   "cell_type": "code",
   "execution_count": 25,
   "metadata": {
    "collapsed": false
   },
   "outputs": [],
   "source": [
    "lbview = rc.load_balanced_view()"
   ]
  },
  {
   "cell_type": "code",
   "execution_count": 26,
   "metadata": {
    "collapsed": false
   },
   "outputs": [],
   "source": [
    "@lbview.parallel(block=True)\n",
    "def dummy_task_load_balanced(delay):\n",
    "    import os, time\n",
    "    t0 = time.time()\n",
    "    pid = os.getpid()\n",
    "    time.sleep(delay)\n",
    "    t1 = time.time()\n",
    "    return [pid, t0, t1]"
   ]
  },
  {
   "cell_type": "code",
   "execution_count": 27,
   "metadata": {
    "collapsed": false
   },
   "outputs": [
    {
     "data": {
      "image/png": "[encoded data removed]",
      "text/plain": [
       "<matplotlib.figure.Figure at 0x2042b587860>"
      ]
     },
     "metadata": {},
     "output_type": "display_data"
    }
   ],
   "source": [
    "result = dummy_task_load_balanced.map(delay_times)\n",
    "visualize_tasks(result)"
   ]
  }
 ],
 "metadata": {
  "kernelspec": {
   "display_name": "Python 3",
   "language": "python",
   "name": "python3"
  },
  "language_info": {
   "codemirror_mode": {
    "name": "ipython",
    "version": 3
   },
   "file_extension": ".py",
   "mimetype": "text/x-python",
   "name": "python",
   "nbconvert_exporter": "python",
   "pygments_lexer": "ipython3",
   "version": "3.6.0"
  }
 },
 "nbformat": 4,
 "nbformat_minor": 0
}
